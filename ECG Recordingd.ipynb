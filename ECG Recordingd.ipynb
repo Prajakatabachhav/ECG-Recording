{
  "cells": [
    {
      "cell_type": "code",
      "execution_count": null,
      "metadata": {
        "colab": {
          "base_uri": "https://localhost:8080/",
          "height": 73
        },
        "id": "-lEIvkSEIQuK",
        "outputId": "04b8498f-548a-4525-e394-c794b8e2e6cd"
      },
      "outputs": [
        {
          "data": {
            "text/html": [
              "\n",
              "     <input type=\"file\" id=\"files-ee9472e0-4746-44a7-8e43-e9829f7fa144\" name=\"files[]\" multiple disabled\n",
              "        style=\"border:none\" />\n",
              "     <output id=\"result-ee9472e0-4746-44a7-8e43-e9829f7fa144\">\n",
              "      Upload widget is only available when the cell has been executed in the\n",
              "      current browser session. Please rerun this cell to enable.\n",
              "      </output>\n",
              "      <script>// Copyright 2017 Google LLC\n",
              "//\n",
              "// Licensed under the Apache License, Version 2.0 (the \"License\");\n",
              "// you may not use this file except in compliance with the License.\n",
              "// You may obtain a copy of the License at\n",
              "//\n",
              "//      http://www.apache.org/licenses/LICENSE-2.0\n",
              "//\n",
              "// Unless required by applicable law or agreed to in writing, software\n",
              "// distributed under the License is distributed on an \"AS IS\" BASIS,\n",
              "// WITHOUT WARRANTIES OR CONDITIONS OF ANY KIND, either express or implied.\n",
              "// See the License for the specific language governing permissions and\n",
              "// limitations under the License.\n",
              "\n",
              "/**\n",
              " * @fileoverview Helpers for google.colab Python module.\n",
              " */\n",
              "(function(scope) {\n",
              "function span(text, styleAttributes = {}) {\n",
              "  const element = document.createElement('span');\n",
              "  element.textContent = text;\n",
              "  for (const key of Object.keys(styleAttributes)) {\n",
              "    element.style[key] = styleAttributes[key];\n",
              "  }\n",
              "  return element;\n",
              "}\n",
              "\n",
              "// Max number of bytes which will be uploaded at a time.\n",
              "const MAX_PAYLOAD_SIZE = 100 * 1024;\n",
              "\n",
              "function _uploadFiles(inputId, outputId) {\n",
              "  const steps = uploadFilesStep(inputId, outputId);\n",
              "  const outputElement = document.getElementById(outputId);\n",
              "  // Cache steps on the outputElement to make it available for the next call\n",
              "  // to uploadFilesContinue from Python.\n",
              "  outputElement.steps = steps;\n",
              "\n",
              "  return _uploadFilesContinue(outputId);\n",
              "}\n",
              "\n",
              "// This is roughly an async generator (not supported in the browser yet),\n",
              "// where there are multiple asynchronous steps and the Python side is going\n",
              "// to poll for completion of each step.\n",
              "// This uses a Promise to block the python side on completion of each step,\n",
              "// then passes the result of the previous step as the input to the next step.\n",
              "function _uploadFilesContinue(outputId) {\n",
              "  const outputElement = document.getElementById(outputId);\n",
              "  const steps = outputElement.steps;\n",
              "\n",
              "  const next = steps.next(outputElement.lastPromiseValue);\n",
              "  return Promise.resolve(next.value.promise).then((value) => {\n",
              "    // Cache the last promise value to make it available to the next\n",
              "    // step of the generator.\n",
              "    outputElement.lastPromiseValue = value;\n",
              "    return next.value.response;\n",
              "  });\n",
              "}\n",
              "\n",
              "/**\n",
              " * Generator function which is called between each async step of the upload\n",
              " * process.\n",
              " * @param {string} inputId Element ID of the input file picker element.\n",
              " * @param {string} outputId Element ID of the output display.\n",
              " * @return {!Iterable<!Object>} Iterable of next steps.\n",
              " */\n",
              "function* uploadFilesStep(inputId, outputId) {\n",
              "  const inputElement = document.getElementById(inputId);\n",
              "  inputElement.disabled = false;\n",
              "\n",
              "  const outputElement = document.getElementById(outputId);\n",
              "  outputElement.innerHTML = '';\n",
              "\n",
              "  const pickedPromise = new Promise((resolve) => {\n",
              "    inputElement.addEventListener('change', (e) => {\n",
              "      resolve(e.target.files);\n",
              "    });\n",
              "  });\n",
              "\n",
              "  const cancel = document.createElement('button');\n",
              "  inputElement.parentElement.appendChild(cancel);\n",
              "  cancel.textContent = 'Cancel upload';\n",
              "  const cancelPromise = new Promise((resolve) => {\n",
              "    cancel.onclick = () => {\n",
              "      resolve(null);\n",
              "    };\n",
              "  });\n",
              "\n",
              "  // Wait for the user to pick the files.\n",
              "  const files = yield {\n",
              "    promise: Promise.race([pickedPromise, cancelPromise]),\n",
              "    response: {\n",
              "      action: 'starting',\n",
              "    }\n",
              "  };\n",
              "\n",
              "  cancel.remove();\n",
              "\n",
              "  // Disable the input element since further picks are not allowed.\n",
              "  inputElement.disabled = true;\n",
              "\n",
              "  if (!files) {\n",
              "    return {\n",
              "      response: {\n",
              "        action: 'complete',\n",
              "      }\n",
              "    };\n",
              "  }\n",
              "\n",
              "  for (const file of files) {\n",
              "    const li = document.createElement('li');\n",
              "    li.append(span(file.name, {fontWeight: 'bold'}));\n",
              "    li.append(span(\n",
              "        `(${file.type || 'n/a'}) - ${file.size} bytes, ` +\n",
              "        `last modified: ${\n",
              "            file.lastModifiedDate ? file.lastModifiedDate.toLocaleDateString() :\n",
              "                                    'n/a'} - `));\n",
              "    const percent = span('0% done');\n",
              "    li.appendChild(percent);\n",
              "\n",
              "    outputElement.appendChild(li);\n",
              "\n",
              "    const fileDataPromise = new Promise((resolve) => {\n",
              "      const reader = new FileReader();\n",
              "      reader.onload = (e) => {\n",
              "        resolve(e.target.result);\n",
              "      };\n",
              "      reader.readAsArrayBuffer(file);\n",
              "    });\n",
              "    // Wait for the data to be ready.\n",
              "    let fileData = yield {\n",
              "      promise: fileDataPromise,\n",
              "      response: {\n",
              "        action: 'continue',\n",
              "      }\n",
              "    };\n",
              "\n",
              "    // Use a chunked sending to avoid message size limits. See b/62115660.\n",
              "    let position = 0;\n",
              "    do {\n",
              "      const length = Math.min(fileData.byteLength - position, MAX_PAYLOAD_SIZE);\n",
              "      const chunk = new Uint8Array(fileData, position, length);\n",
              "      position += length;\n",
              "\n",
              "      const base64 = btoa(String.fromCharCode.apply(null, chunk));\n",
              "      yield {\n",
              "        response: {\n",
              "          action: 'append',\n",
              "          file: file.name,\n",
              "          data: base64,\n",
              "        },\n",
              "      };\n",
              "\n",
              "      let percentDone = fileData.byteLength === 0 ?\n",
              "          100 :\n",
              "          Math.round((position / fileData.byteLength) * 100);\n",
              "      percent.textContent = `${percentDone}% done`;\n",
              "\n",
              "    } while (position < fileData.byteLength);\n",
              "  }\n",
              "\n",
              "  // All done.\n",
              "  yield {\n",
              "    response: {\n",
              "      action: 'complete',\n",
              "    }\n",
              "  };\n",
              "}\n",
              "\n",
              "scope.google = scope.google || {};\n",
              "scope.google.colab = scope.google.colab || {};\n",
              "scope.google.colab._files = {\n",
              "  _uploadFiles,\n",
              "  _uploadFilesContinue,\n",
              "};\n",
              "})(self);\n",
              "</script> "
            ],
            "text/plain": [
              "<IPython.core.display.HTML object>"
            ]
          },
          "metadata": {},
          "output_type": "display_data"
        },
        {
          "name": "stdout",
          "output_type": "stream",
          "text": [
            "Saving ECGarchive.zip to ECGarchive.zip\n"
          ]
        }
      ],
      "source": [
        "from google.colab import files\n",
        "uploaded = files.upload()\n"
      ]
    },
    {
      "cell_type": "code",
      "execution_count": null,
      "metadata": {
        "colab": {
          "base_uri": "https://localhost:8080/"
        },
        "id": "5h1TaqMEJcqg",
        "outputId": "582a853b-d285-436c-8f34-ae05ad0c9e9a"
      },
      "outputs": [
        {
          "name": "stdout",
          "output_type": "stream",
          "text": [
            "unzip:  cannot find or open archive.zip, archive.zip.zip or archive.zip.ZIP.\n"
          ]
        }
      ],
      "source": [
        "!unzip \"archive.zip\""
      ]
    },
    {
      "cell_type": "code",
      "execution_count": null,
      "metadata": {
        "colab": {
          "base_uri": "https://localhost:8080/"
        },
        "id": "PMu71yC0K-Z4",
        "outputId": "e2d4b3e4-00be-4385-81e6-d72e3ad26765"
      },
      "outputs": [
        {
          "name": "stdout",
          "output_type": "stream",
          "text": [
            "Collecting wfdb\n",
            "  Downloading wfdb-4.1.2-py3-none-any.whl.metadata (4.3 kB)\n",
            "Requirement already satisfied: matplotlib in /usr/local/lib/python3.10/dist-packages (3.8.0)\n",
            "Requirement already satisfied: numpy in /usr/local/lib/python3.10/dist-packages (1.26.4)\n",
            "Requirement already satisfied: pandas in /usr/local/lib/python3.10/dist-packages (2.2.2)\n",
            "Requirement already satisfied: SoundFile>=0.10.0 in /usr/local/lib/python3.10/dist-packages (from wfdb) (0.12.1)\n",
            "Requirement already satisfied: requests>=2.8.1 in /usr/local/lib/python3.10/dist-packages (from wfdb) (2.32.3)\n",
            "Requirement already satisfied: scipy>=1.0.0 in /usr/local/lib/python3.10/dist-packages (from wfdb) (1.13.1)\n",
            "Requirement already satisfied: contourpy>=1.0.1 in /usr/local/lib/python3.10/dist-packages (from matplotlib) (1.3.1)\n",
            "Requirement already satisfied: cycler>=0.10 in /usr/local/lib/python3.10/dist-packages (from matplotlib) (0.12.1)\n",
            "Requirement already satisfied: fonttools>=4.22.0 in /usr/local/lib/python3.10/dist-packages (from matplotlib) (4.55.3)\n",
            "Requirement already satisfied: kiwisolver>=1.0.1 in /usr/local/lib/python3.10/dist-packages (from matplotlib) (1.4.7)\n",
            "Requirement already satisfied: packaging>=20.0 in /usr/local/lib/python3.10/dist-packages (from matplotlib) (24.2)\n",
            "Requirement already satisfied: pillow>=6.2.0 in /usr/local/lib/python3.10/dist-packages (from matplotlib) (11.0.0)\n",
            "Requirement already satisfied: pyparsing>=2.3.1 in /usr/local/lib/python3.10/dist-packages (from matplotlib) (3.2.0)\n",
            "Requirement already satisfied: python-dateutil>=2.7 in /usr/local/lib/python3.10/dist-packages (from matplotlib) (2.8.2)\n",
            "Requirement already satisfied: pytz>=2020.1 in /usr/local/lib/python3.10/dist-packages (from pandas) (2024.2)\n",
            "Requirement already satisfied: tzdata>=2022.7 in /usr/local/lib/python3.10/dist-packages (from pandas) (2024.2)\n",
            "Requirement already satisfied: six>=1.5 in /usr/local/lib/python3.10/dist-packages (from python-dateutil>=2.7->matplotlib) (1.17.0)\n",
            "Requirement already satisfied: charset-normalizer<4,>=2 in /usr/local/lib/python3.10/dist-packages (from requests>=2.8.1->wfdb) (3.4.0)\n",
            "Requirement already satisfied: idna<4,>=2.5 in /usr/local/lib/python3.10/dist-packages (from requests>=2.8.1->wfdb) (3.10)\n",
            "Requirement already satisfied: urllib3<3,>=1.21.1 in /usr/local/lib/python3.10/dist-packages (from requests>=2.8.1->wfdb) (2.2.3)\n",
            "Requirement already satisfied: certifi>=2017.4.17 in /usr/local/lib/python3.10/dist-packages (from requests>=2.8.1->wfdb) (2024.8.30)\n",
            "Requirement already satisfied: cffi>=1.0 in /usr/local/lib/python3.10/dist-packages (from SoundFile>=0.10.0->wfdb) (1.17.1)\n",
            "Requirement already satisfied: pycparser in /usr/local/lib/python3.10/dist-packages (from cffi>=1.0->SoundFile>=0.10.0->wfdb) (2.22)\n",
            "Downloading wfdb-4.1.2-py3-none-any.whl (159 kB)\n",
            "\u001b[2K   \u001b[90m━━━━━━━━━━━━━━━━━━━━━━━━━━━━━━━━━━━━━━━━\u001b[0m \u001b[32m160.0/160.0 kB\u001b[0m \u001b[31m2.9 MB/s\u001b[0m eta \u001b[36m0:00:00\u001b[0m\n",
            "\u001b[?25hInstalling collected packages: wfdb\n",
            "Successfully installed wfdb-4.1.2\n"
          ]
        }
      ],
      "source": [
        "!pip install wfdb matplotlib numpy pandas\n"
      ]
    },
    {
      "cell_type": "code",
      "execution_count": null,
      "metadata": {
        "colab": {
          "base_uri": "https://localhost:8080/"
        },
        "id": "dVD9fu5FM_Wa",
        "outputId": "f3968ad5-9d23-4bc0-f9da-a7e13b9015f7"
      },
      "outputs": [
        {
          "name": "stdout",
          "output_type": "stream",
          "text": [
            "['.config', 'ECGarchive.zip', 'sample_data']\n"
          ]
        }
      ],
      "source": [
        "import os\n",
        "\n",
        "# List all files in the extracted folder\n",
        "extracted_folder = '/content/'\n",
        "\n",
        "# List files in the folder\n",
        "extracted_files = os.listdir(extracted_folder)\n",
        "print(extracted_files[:10])  # Display first 10 files\n"
      ]
    },
    {
      "cell_type": "code",
      "execution_count": null,
      "metadata": {
        "colab": {
          "base_uri": "https://localhost:8080/"
        },
        "id": "9kmfB8yUrOBJ",
        "outputId": "55953a49-b25c-4ad3-c4b4-cd7d87f21523"
      },
      "outputs": [
        {
          "name": "stdout",
          "output_type": "stream",
          "text": [
            "Extracted files: ['.config', 'ECGarchive.zip', 'sample_data']\n"
          ]
        }
      ],
      "source": [
        "import os\n",
        "extracted_files = os.listdir('/content/')\n",
        "print(\"Extracted files:\", extracted_files)\n"
      ]
    },
    {
      "cell_type": "code",
      "execution_count": null,
      "metadata": {
        "colab": {
          "base_uri": "https://localhost:8080/"
        },
        "id": "W1T0nCAorRWT",
        "outputId": "aa9fc30a-23b5-4dfe-b7a9-3085092feb9e"
      },
      "outputs": [
        {
          "name": "stdout",
          "output_type": "stream",
          "text": [
            "Size of ECGarchive.zip: 44599840 bytes\n"
          ]
        }
      ],
      "source": [
        "# Check the size of the zip file\n",
        "zip_path = '/content/ECGarchive.zip'\n",
        "file_size = os.path.getsize(zip_path)\n",
        "print(f\"Size of ECGarchive.zip: {file_size} bytes\")\n",
        "\n"
      ]
    },
    {
      "cell_type": "code",
      "execution_count": null,
      "metadata": {
        "id": "NhziFZtQCfB9"
      },
      "outputs": [],
      "source": []
    },
    {
      "cell_type": "code",
      "execution_count": null,
      "metadata": {
        "colab": {
          "base_uri": "https://localhost:8080/"
        },
        "id": "Y5IVb-jerRZZ",
        "outputId": "ecee8092-ea87-4e97-a2f2-cbdde23d0137"
      },
      "outputs": [
        {
          "name": "stdout",
          "output_type": "stream",
          "text": [
            "Archive:  /content/ECGarchive.zip\n",
            "  inflating: /content/physionet2017.csv  \n",
            "Extracted files after extraction: ['.config', 'ECGarchive.zip', 'physionet2017.csv', 'sample_data']\n"
          ]
        }
      ],
      "source": [
        "# Extract the zip file\n",
        "!unzip -o /content/ECGarchive.zip -d /content/\n",
        "\n",
        "# List the extracted files\n",
        "extracted_files = os.listdir('/content/')\n",
        "print(\"Extracted files after extraction:\", extracted_files)\n"
      ]
    },
    {
      "cell_type": "code",
      "execution_count": null,
      "metadata": {
        "colab": {
          "base_uri": "https://localhost:8080/"
        },
        "id": "obVrwBnJ93CQ",
        "outputId": "37bc1336-2e7a-47d6-de22-8dbcf6a5b282"
      },
      "outputs": [
        {
          "name": "stdout",
          "output_type": "stream",
          "text": [
            "Directories found: ['.config', 'sample_data']\n",
            "Contents of directory '.config': ['gce', 'config_sentinel', 'configurations', '.last_update_check.json', 'default_configs.db', '.last_survey_prompt.yaml', 'active_config', '.last_opt_in_prompt.yaml', 'logs', 'hidden_gcloud_config_universe_descriptor_data_cache_configs.db']\n",
            "Contents of directory 'sample_data': ['README.md', 'anscombe.json', 'california_housing_test.csv', 'mnist_train_small.csv', 'mnist_test.csv', 'california_housing_train.csv']\n"
          ]
        }
      ],
      "source": [
        "# Identify directories in the extracted content\n",
        "directories = [d for d in os.listdir('/content/') if os.path.isdir(os.path.join('/content/', d))]\n",
        "print(\"Directories found:\", directories)\n",
        "\n",
        "# List the contents of each directory\n",
        "for directory in directories:\n",
        "    dir_path = os.path.join('/content/', directory)\n",
        "    print(f\"Contents of directory '{directory}':\", os.listdir(dir_path))\n"
      ]
    },
    {
      "cell_type": "code",
      "execution_count": null,
      "metadata": {
        "colab": {
          "base_uri": "https://localhost:8080/"
        },
        "id": "qPjJ0T3sAtp6",
        "outputId": "01a74836-ac58-46d9-93eb-9b175bad1fa5"
      },
      "outputs": [
        {
          "name": "stdout",
          "output_type": "stream",
          "text": [
            "Archive:  /content/ECGarchive.zip\n",
            "  Length      Date    Time    Name\n",
            "---------  ---------- -----   ----\n",
            "343073982  2020-10-11 12:20   physionet2017.csv\n",
            "---------                     -------\n",
            "343073982                     1 file\n"
          ]
        }
      ],
      "source": [
        "# List the contents of the zip file without extracting\n",
        "!unzip -l /content/ECGarchive.zip\n"
      ]
    },
    {
      "cell_type": "code",
      "execution_count": null,
      "metadata": {
        "colab": {
          "base_uri": "https://localhost:8080/"
        },
        "id": "ykHv0Hr3BD1c",
        "outputId": "de3d26ee-c9f2-418c-b9ac-b93cde712560"
      },
      "outputs": [
        {
          "name": "stdout",
          "output_type": "stream",
          "text": [
            "          0         1         2         3         4         5         6  \\\n",
            "0  0.035032  0.037155  0.044586  0.063694  0.076433  0.085987  0.089172   \n",
            "1 -0.035288 -0.032573 -0.030945 -0.029859 -0.031488 -0.034202 -0.037459   \n",
            "2 -0.303922 -0.261438 -0.222222 -0.192810 -0.176471 -0.163399 -0.147059   \n",
            "3  0.109467  0.117604  0.128698  0.142012  0.153107  0.161982  0.170118   \n",
            "4 -0.019856 -0.017148 -0.014440 -0.011733 -0.009928 -0.008123 -0.006318   \n",
            "\n",
            "          7         8         9  ...      1992      1993      1994      1995  \\\n",
            "0  0.083864  0.072187  0.061571  ...  0.008493  0.000000 -0.007431 -0.012739   \n",
            "1 -0.040717 -0.043974 -0.047231  ... -0.001629 -0.001086 -0.000543 -0.000543   \n",
            "2 -0.130719 -0.117647 -0.107843  ... -0.346405 -0.339869 -0.323529 -0.297386   \n",
            "3  0.176036  0.181213  0.184911  ...  0.780325  0.640533  0.467456  0.298077   \n",
            "4 -0.004513 -0.003610 -0.001805  ... -0.306859 -0.260830 -0.214801 -0.168773   \n",
            "\n",
            "       1996      1997      1998      1999        name  label  \n",
            "0 -0.015924 -0.019108 -0.023355 -0.022293  A00/A00001      0  \n",
            "1  0.000000  0.000000  0.000543  0.001086  A00/A00002      0  \n",
            "2 -0.264706 -0.209150 -0.117647 -0.065359  A00/A00003      0  \n",
            "3  0.165680  0.085799  0.012574  0.013314  A00/A00004      1  \n",
            "4 -0.124549 -0.083935 -0.051444  0.000000  A00/A00005      1  \n",
            "\n",
            "[5 rows x 2002 columns]\n",
            "<class 'pandas.core.frame.DataFrame'>\n",
            "RangeIndex: 8528 entries, 0 to 8527\n",
            "Columns: 2002 entries, 0 to label\n",
            "dtypes: float64(2000), int64(1), object(1)\n",
            "memory usage: 130.3+ MB\n",
            "None\n"
          ]
        }
      ],
      "source": [
        "import pandas as pd\n",
        "\n",
        "# Load the CSV file\n",
        "csv_path = '/content/physionet2017.csv'\n",
        "data = pd.read_csv(csv_path)\n",
        "\n",
        "# Display the first few rows\n",
        "print(data.head())\n",
        "\n",
        "# Display basic information about the dataset\n",
        "print(data.info())\n"
      ]
    },
    {
      "cell_type": "code",
      "execution_count": null,
      "metadata": {
        "colab": {
          "base_uri": "https://localhost:8080/"
        },
        "id": "IXRfpGulCgng",
        "outputId": "57469de0-3be0-4f90-b6f7-cfce7fe7fb63"
      },
      "outputs": [
        {
          "name": "stdout",
          "output_type": "stream",
          "text": [
            "          0         1         2         3         4         5         6  \\\n",
            "0  0.035032  0.037155  0.044586  0.063694  0.076433  0.085987  0.089172   \n",
            "1 -0.035288 -0.032573 -0.030945 -0.029859 -0.031488 -0.034202 -0.037459   \n",
            "2 -0.303922 -0.261438 -0.222222 -0.192810 -0.176471 -0.163399 -0.147059   \n",
            "3  0.109467  0.117604  0.128698  0.142012  0.153107  0.161982  0.170118   \n",
            "4 -0.019856 -0.017148 -0.014440 -0.011733 -0.009928 -0.008123 -0.006318   \n",
            "\n",
            "          7         8         9  ...      1992      1993      1994      1995  \\\n",
            "0  0.083864  0.072187  0.061571  ...  0.008493  0.000000 -0.007431 -0.012739   \n",
            "1 -0.040717 -0.043974 -0.047231  ... -0.001629 -0.001086 -0.000543 -0.000543   \n",
            "2 -0.130719 -0.117647 -0.107843  ... -0.346405 -0.339869 -0.323529 -0.297386   \n",
            "3  0.176036  0.181213  0.184911  ...  0.780325  0.640533  0.467456  0.298077   \n",
            "4 -0.004513 -0.003610 -0.001805  ... -0.306859 -0.260830 -0.214801 -0.168773   \n",
            "\n",
            "       1996      1997      1998      1999        name  label  \n",
            "0 -0.015924 -0.019108 -0.023355 -0.022293  A00/A00001      0  \n",
            "1  0.000000  0.000000  0.000543  0.001086  A00/A00002      0  \n",
            "2 -0.264706 -0.209150 -0.117647 -0.065359  A00/A00003      0  \n",
            "3  0.165680  0.085799  0.012574  0.013314  A00/A00004      1  \n",
            "4 -0.124549 -0.083935 -0.051444  0.000000  A00/A00005      1  \n",
            "\n",
            "[5 rows x 2002 columns]\n",
            "<class 'pandas.core.frame.DataFrame'>\n",
            "RangeIndex: 8528 entries, 0 to 8527\n",
            "Columns: 2002 entries, 0 to label\n",
            "dtypes: float64(2000), int64(1), object(1)\n",
            "memory usage: 130.3+ MB\n",
            "None\n",
            "                 0            1            2            3            4  \\\n",
            "count  8528.000000  8528.000000  8528.000000  8528.000000  8528.000000   \n",
            "mean     -0.000674    -0.000453    -0.000369    -0.000404    -0.000726   \n",
            "std       0.322113     0.312340     0.302312     0.296216     0.296979   \n",
            "min     -10.089286    -8.187500    -5.785714    -3.890411    -4.637555   \n",
            "25%      -0.079166    -0.080244    -0.079844    -0.078692    -0.078410   \n",
            "50%      -0.011626    -0.011294    -0.011244    -0.010825    -0.010610   \n",
            "75%       0.077102     0.076607     0.075787     0.075279     0.076076   \n",
            "max       1.000000     1.000000     1.000000     1.000000     1.000000   \n",
            "\n",
            "                 5            6            7            8            9  ...  \\\n",
            "count  8528.000000  8528.000000  8528.000000  8528.000000  8528.000000  ...   \n",
            "mean     -0.001198    -0.001413    -0.001348    -0.000888    -0.000049  ...   \n",
            "std       0.302561     0.308043     0.309880     0.306606     0.298947  ...   \n",
            "min      -5.545852    -6.164062    -6.632812    -6.359375    -5.531250  ...   \n",
            "25%      -0.078657    -0.078718    -0.079235    -0.078653    -0.078671  ...   \n",
            "50%      -0.010748    -0.010894    -0.010923    -0.011254    -0.010974  ...   \n",
            "75%       0.075962     0.076297     0.076723     0.077857     0.077688  ...   \n",
            "max       1.000000     1.000000     1.000000     1.000000     1.000000  ...   \n",
            "\n",
            "              1991         1992         1993         1994         1995  \\\n",
            "count  8528.000000  8528.000000  8528.000000  8528.000000  8528.000000   \n",
            "mean      0.000858     0.001643     0.001982     0.001973     0.001548   \n",
            "std       0.350457     0.345142     0.345345     0.345322     0.338715   \n",
            "min      -9.424528    -7.207547    -7.351275    -8.152975    -8.461756   \n",
            "25%      -0.090909    -0.090426    -0.088092    -0.085598    -0.080313   \n",
            "50%      -0.011306    -0.010700    -0.010185    -0.009225    -0.008518   \n",
            "75%       0.092529     0.091407     0.089552     0.085198     0.079663   \n",
            "max       1.000000     1.000000     1.000000     1.000000     1.000000   \n",
            "\n",
            "              1996         1997         1998         1999        label  \n",
            "count  8528.000000  8528.000000  8528.000000  8528.000000  8528.000000  \n",
            "mean      0.001045     0.000521     0.000630     0.000753     0.753401  \n",
            "std       0.320852     0.285306     0.231386     0.168758     0.973942  \n",
            "min      -8.365439    -7.549575    -5.883853    -4.260000     0.000000  \n",
            "25%      -0.072039    -0.061747    -0.050415    -0.039158     0.000000  \n",
            "50%      -0.007722    -0.006385    -0.004785    -0.002161     0.000000  \n",
            "75%       0.072631     0.062380     0.050588     0.040195     2.000000  \n",
            "max       1.000000     1.000000     0.981077     0.914085     3.000000  \n",
            "\n",
            "[8 rows x 2001 columns]\n"
          ]
        }
      ],
      "source": [
        "import pandas as pd\n",
        "\n",
        "# Load the CSV file\n",
        "csv_path = '/content/physionet2017.csv'\n",
        "data = pd.read_csv(csv_path)\n",
        "\n",
        "# Display basic information and first few rows\n",
        "print(data.head())  # View the first few rows\n",
        "print(data.info())  # Get data types and column summary\n",
        "print(data.describe())  # Check summary statistics\n"
      ]
    },
    {
      "cell_type": "code",
      "execution_count": null,
      "metadata": {
        "colab": {
          "base_uri": "https://localhost:8080/"
        },
        "id": "2IvhznL_CuK2",
        "outputId": "3e82346e-0a2a-47c4-d7a3-fe0c6727ca41"
      },
      "outputs": [
        {
          "name": "stdout",
          "output_type": "stream",
          "text": [
            "Remaining rows after dropping missing values: 8528\n"
          ]
        }
      ],
      "source": [
        "data = data.dropna()\n",
        "print(\"Remaining rows after dropping missing values:\", len(data))\n"
      ]
    },
    {
      "cell_type": "code",
      "execution_count": null,
      "metadata": {
        "colab": {
          "base_uri": "https://localhost:8080/"
        },
        "id": "EaWj6YZLCuSD",
        "outputId": "974fc5c6-80c5-4130-f922-0fabce58a514"
      },
      "outputs": [
        {
          "name": "stdout",
          "output_type": "stream",
          "text": [
            "0        float64\n",
            "1        float64\n",
            "2        float64\n",
            "3        float64\n",
            "4        float64\n",
            "          ...   \n",
            "1997     float64\n",
            "1998     float64\n",
            "1999     float64\n",
            "name      object\n",
            "label      int64\n",
            "Length: 2002, dtype: object\n"
          ]
        }
      ],
      "source": [
        "print(data.dtypes)\n"
      ]
    },
    {
      "cell_type": "code",
      "execution_count": null,
      "metadata": {
        "colab": {
          "base_uri": "https://localhost:8080/"
        },
        "id": "kIz9SFVWDkJ6",
        "outputId": "483a9d24-b65c-47b7-9e00-89c61b2a9399"
      },
      "outputs": [
        {
          "name": "stdout",
          "output_type": "stream",
          "text": [
            "<class 'pandas.core.frame.DataFrame'>\n",
            "RangeIndex: 8528 entries, 0 to 8527\n",
            "Columns: 2001 entries, 0 to label\n",
            "dtypes: float64(2000), int64(1)\n",
            "memory usage: 130.2 MB\n",
            "None\n"
          ]
        }
      ],
      "source": [
        "# Exclude non-numeric columns\n",
        "numeric_data = data.select_dtypes(include=['float64', 'int64'])\n",
        "\n",
        "# Fill missing values in numeric columns with the column mean\n",
        "numeric_data.fillna(numeric_data.mean(), inplace=True)\n",
        "\n",
        "# Verify the operation\n",
        "print(numeric_data.info())\n"
      ]
    },
    {
      "cell_type": "code",
      "execution_count": null,
      "metadata": {
        "colab": {
          "base_uri": "https://localhost:8080/"
        },
        "id": "RW5uMTZbD0lk",
        "outputId": "06496c49-4712-4402-a1e6-5fa47ad4307c"
      },
      "outputs": [
        {
          "name": "stdout",
          "output_type": "stream",
          "text": [
            "Features shape: (8528, 2000)\n",
            "Labels shape: (8528,)\n"
          ]
        }
      ],
      "source": [
        "# Separate features (ECG signals) and labels\n",
        "X = numeric_data.drop(columns=['label'])  # Drop the 'label' column to get features\n",
        "y = numeric_data['label']  # 'label' column is the target variable (class labels)\n",
        "\n",
        "# Check the shapes of the features and labels\n",
        "print(\"Features shape:\", X.shape)\n",
        "print(\"Labels shape:\", y.shape)\n"
      ]
    },
    {
      "cell_type": "code",
      "execution_count": null,
      "metadata": {
        "colab": {
          "base_uri": "https://localhost:8080/"
        },
        "id": "fQIXoqUeEjkz",
        "outputId": "01f0c9d5-7635-46e3-995d-eb3ca0423a88"
      },
      "outputs": [
        {
          "name": "stdout",
          "output_type": "stream",
          "text": [
            "Training data shape: (6822, 2000)\n",
            "Validation data shape: (1706, 2000)\n"
          ]
        }
      ],
      "source": [
        "from sklearn.model_selection import train_test_split\n",
        "\n",
        "# Split the dataset into training and validation sets\n",
        "X_train, X_val, y_train, y_val = train_test_split(X, y, test_size=0.2, random_state=42)\n",
        "\n",
        "# Verify the size of the splits\n",
        "print(\"Training data shape:\", X_train.shape)\n",
        "print(\"Validation data shape:\", X_val.shape)\n"
      ]
    },
    {
      "cell_type": "code",
      "execution_count": null,
      "metadata": {
        "colab": {
          "base_uri": "https://localhost:8080/",
          "height": 408
        },
        "id": "EuSbrg2rKykM",
        "outputId": "1ae5a50b-72f2-415f-8072-266bb0d574f1"
      },
      "outputs": [
        {
          "name": "stderr",
          "output_type": "stream",
          "text": [
            "/usr/local/lib/python3.10/dist-packages/keras/src/layers/convolutional/base_conv.py:107: UserWarning: Do not pass an `input_shape`/`input_dim` argument to a layer. When using Sequential models, prefer using an `Input(shape)` object as the first layer in the model instead.\n",
            "  super().__init__(activity_regularizer=activity_regularizer, **kwargs)\n"
          ]
        },
        {
          "data": {
            "text/html": [
              "<pre style=\"white-space:pre;overflow-x:auto;line-height:normal;font-family:Menlo,'DejaVu Sans Mono',consolas,'Courier New',monospace\"><span style=\"font-weight: bold\">Model: \"sequential_1\"</span>\n",
              "</pre>\n"
            ],
            "text/plain": [
              "\u001b[1mModel: \"sequential_1\"\u001b[0m\n"
            ]
          },
          "metadata": {},
          "output_type": "display_data"
        },
        {
          "data": {
            "text/html": [
              "<pre style=\"white-space:pre;overflow-x:auto;line-height:normal;font-family:Menlo,'DejaVu Sans Mono',consolas,'Courier New',monospace\">┏━━━━━━━━━━━━━━━━━━━━━━━━━━━━━━━━━━━━━━┳━━━━━━━━━━━━━━━━━━━━━━━━━━━━━┳━━━━━━━━━━━━━━━━━┓\n",
              "┃<span style=\"font-weight: bold\"> Layer (type)                         </span>┃<span style=\"font-weight: bold\"> Output Shape                </span>┃<span style=\"font-weight: bold\">         Param # </span>┃\n",
              "┡━━━━━━━━━━━━━━━━━━━━━━━━━━━━━━━━━━━━━━╇━━━━━━━━━━━━━━━━━━━━━━━━━━━━━╇━━━━━━━━━━━━━━━━━┩\n",
              "│ conv1d_1 (<span style=\"color: #0087ff; text-decoration-color: #0087ff\">Conv1D</span>)                    │ (<span style=\"color: #00d7ff; text-decoration-color: #00d7ff\">None</span>, <span style=\"color: #00af00; text-decoration-color: #00af00\">1998</span>, <span style=\"color: #00af00; text-decoration-color: #00af00\">32</span>)            │             <span style=\"color: #00af00; text-decoration-color: #00af00\">128</span> │\n",
              "├──────────────────────────────────────┼─────────────────────────────┼─────────────────┤\n",
              "│ max_pooling1d_1 (<span style=\"color: #0087ff; text-decoration-color: #0087ff\">MaxPooling1D</span>)       │ (<span style=\"color: #00d7ff; text-decoration-color: #00d7ff\">None</span>, <span style=\"color: #00af00; text-decoration-color: #00af00\">999</span>, <span style=\"color: #00af00; text-decoration-color: #00af00\">32</span>)             │               <span style=\"color: #00af00; text-decoration-color: #00af00\">0</span> │\n",
              "├──────────────────────────────────────┼─────────────────────────────┼─────────────────┤\n",
              "│ conv1d_2 (<span style=\"color: #0087ff; text-decoration-color: #0087ff\">Conv1D</span>)                    │ (<span style=\"color: #00d7ff; text-decoration-color: #00d7ff\">None</span>, <span style=\"color: #00af00; text-decoration-color: #00af00\">997</span>, <span style=\"color: #00af00; text-decoration-color: #00af00\">64</span>)             │           <span style=\"color: #00af00; text-decoration-color: #00af00\">6,208</span> │\n",
              "├──────────────────────────────────────┼─────────────────────────────┼─────────────────┤\n",
              "│ max_pooling1d_2 (<span style=\"color: #0087ff; text-decoration-color: #0087ff\">MaxPooling1D</span>)       │ (<span style=\"color: #00d7ff; text-decoration-color: #00d7ff\">None</span>, <span style=\"color: #00af00; text-decoration-color: #00af00\">498</span>, <span style=\"color: #00af00; text-decoration-color: #00af00\">64</span>)             │               <span style=\"color: #00af00; text-decoration-color: #00af00\">0</span> │\n",
              "├──────────────────────────────────────┼─────────────────────────────┼─────────────────┤\n",
              "│ flatten_1 (<span style=\"color: #0087ff; text-decoration-color: #0087ff\">Flatten</span>)                  │ (<span style=\"color: #00d7ff; text-decoration-color: #00d7ff\">None</span>, <span style=\"color: #00af00; text-decoration-color: #00af00\">31872</span>)               │               <span style=\"color: #00af00; text-decoration-color: #00af00\">0</span> │\n",
              "├──────────────────────────────────────┼─────────────────────────────┼─────────────────┤\n",
              "│ dense_2 (<span style=\"color: #0087ff; text-decoration-color: #0087ff\">Dense</span>)                      │ (<span style=\"color: #00d7ff; text-decoration-color: #00d7ff\">None</span>, <span style=\"color: #00af00; text-decoration-color: #00af00\">128</span>)                 │       <span style=\"color: #00af00; text-decoration-color: #00af00\">4,079,744</span> │\n",
              "├──────────────────────────────────────┼─────────────────────────────┼─────────────────┤\n",
              "│ dense_3 (<span style=\"color: #0087ff; text-decoration-color: #0087ff\">Dense</span>)                      │ (<span style=\"color: #00d7ff; text-decoration-color: #00d7ff\">None</span>, <span style=\"color: #00af00; text-decoration-color: #00af00\">5</span>)                   │             <span style=\"color: #00af00; text-decoration-color: #00af00\">645</span> │\n",
              "└──────────────────────────────────────┴─────────────────────────────┴─────────────────┘\n",
              "</pre>\n"
            ],
            "text/plain": [
              "┏━━━━━━━━━━━━━━━━━━━━━━━━━━━━━━━━━━━━━━┳━━━━━━━━━━━━━━━━━━━━━━━━━━━━━┳━━━━━━━━━━━━━━━━━┓\n",
              "┃\u001b[1m \u001b[0m\u001b[1mLayer (type)                        \u001b[0m\u001b[1m \u001b[0m┃\u001b[1m \u001b[0m\u001b[1mOutput Shape               \u001b[0m\u001b[1m \u001b[0m┃\u001b[1m \u001b[0m\u001b[1m        Param #\u001b[0m\u001b[1m \u001b[0m┃\n",
              "┡━━━━━━━━━━━━━━━━━━━━━━━━━━━━━━━━━━━━━━╇━━━━━━━━━━━━━━━━━━━━━━━━━━━━━╇━━━━━━━━━━━━━━━━━┩\n",
              "│ conv1d_1 (\u001b[38;5;33mConv1D\u001b[0m)                    │ (\u001b[38;5;45mNone\u001b[0m, \u001b[38;5;34m1998\u001b[0m, \u001b[38;5;34m32\u001b[0m)            │             \u001b[38;5;34m128\u001b[0m │\n",
              "├──────────────────────────────────────┼─────────────────────────────┼─────────────────┤\n",
              "│ max_pooling1d_1 (\u001b[38;5;33mMaxPooling1D\u001b[0m)       │ (\u001b[38;5;45mNone\u001b[0m, \u001b[38;5;34m999\u001b[0m, \u001b[38;5;34m32\u001b[0m)             │               \u001b[38;5;34m0\u001b[0m │\n",
              "├──────────────────────────────────────┼─────────────────────────────┼─────────────────┤\n",
              "│ conv1d_2 (\u001b[38;5;33mConv1D\u001b[0m)                    │ (\u001b[38;5;45mNone\u001b[0m, \u001b[38;5;34m997\u001b[0m, \u001b[38;5;34m64\u001b[0m)             │           \u001b[38;5;34m6,208\u001b[0m │\n",
              "├──────────────────────────────────────┼─────────────────────────────┼─────────────────┤\n",
              "│ max_pooling1d_2 (\u001b[38;5;33mMaxPooling1D\u001b[0m)       │ (\u001b[38;5;45mNone\u001b[0m, \u001b[38;5;34m498\u001b[0m, \u001b[38;5;34m64\u001b[0m)             │               \u001b[38;5;34m0\u001b[0m │\n",
              "├──────────────────────────────────────┼─────────────────────────────┼─────────────────┤\n",
              "│ flatten_1 (\u001b[38;5;33mFlatten\u001b[0m)                  │ (\u001b[38;5;45mNone\u001b[0m, \u001b[38;5;34m31872\u001b[0m)               │               \u001b[38;5;34m0\u001b[0m │\n",
              "├──────────────────────────────────────┼─────────────────────────────┼─────────────────┤\n",
              "│ dense_2 (\u001b[38;5;33mDense\u001b[0m)                      │ (\u001b[38;5;45mNone\u001b[0m, \u001b[38;5;34m128\u001b[0m)                 │       \u001b[38;5;34m4,079,744\u001b[0m │\n",
              "├──────────────────────────────────────┼─────────────────────────────┼─────────────────┤\n",
              "│ dense_3 (\u001b[38;5;33mDense\u001b[0m)                      │ (\u001b[38;5;45mNone\u001b[0m, \u001b[38;5;34m5\u001b[0m)                   │             \u001b[38;5;34m645\u001b[0m │\n",
              "└──────────────────────────────────────┴─────────────────────────────┴─────────────────┘\n"
            ]
          },
          "metadata": {},
          "output_type": "display_data"
        },
        {
          "data": {
            "text/html": [
              "<pre style=\"white-space:pre;overflow-x:auto;line-height:normal;font-family:Menlo,'DejaVu Sans Mono',consolas,'Courier New',monospace\"><span style=\"font-weight: bold\"> Total params: </span><span style=\"color: #00af00; text-decoration-color: #00af00\">4,086,725</span> (15.59 MB)\n",
              "</pre>\n"
            ],
            "text/plain": [
              "\u001b[1m Total params: \u001b[0m\u001b[38;5;34m4,086,725\u001b[0m (15.59 MB)\n"
            ]
          },
          "metadata": {},
          "output_type": "display_data"
        },
        {
          "data": {
            "text/html": [
              "<pre style=\"white-space:pre;overflow-x:auto;line-height:normal;font-family:Menlo,'DejaVu Sans Mono',consolas,'Courier New',monospace\"><span style=\"font-weight: bold\"> Trainable params: </span><span style=\"color: #00af00; text-decoration-color: #00af00\">4,086,725</span> (15.59 MB)\n",
              "</pre>\n"
            ],
            "text/plain": [
              "\u001b[1m Trainable params: \u001b[0m\u001b[38;5;34m4,086,725\u001b[0m (15.59 MB)\n"
            ]
          },
          "metadata": {},
          "output_type": "display_data"
        },
        {
          "data": {
            "text/html": [
              "<pre style=\"white-space:pre;overflow-x:auto;line-height:normal;font-family:Menlo,'DejaVu Sans Mono',consolas,'Courier New',monospace\"><span style=\"font-weight: bold\"> Non-trainable params: </span><span style=\"color: #00af00; text-decoration-color: #00af00\">0</span> (0.00 B)\n",
              "</pre>\n"
            ],
            "text/plain": [
              "\u001b[1m Non-trainable params: \u001b[0m\u001b[38;5;34m0\u001b[0m (0.00 B)\n"
            ]
          },
          "metadata": {},
          "output_type": "display_data"
        }
      ],
      "source": [
        "from tensorflow.keras.models import Sequential\n",
        "from tensorflow.keras.layers import Conv1D, MaxPooling1D, Flatten, Dense\n",
        "\n",
        "# Build the model\n",
        "model_ecg = Sequential([\n",
        "    Conv1D(32, 3, activation='relu', input_shape=(X_train_reshaped.shape[1], 1)),  # 32 filters, kernel size = 3\n",
        "    MaxPooling1D(2),  # Pooling layer to down-sample the data\n",
        "    Conv1D(64, 3, activation='relu'),\n",
        "    MaxPooling1D(2),\n",
        "    Flatten(),\n",
        "    Dense(128, activation='relu'),\n",
        "    Dense(5, activation='softmax')  # 5 output classes for emotions\n",
        "])\n",
        "\n",
        "# Compile the model\n",
        "model_ecg.compile(optimizer='adam', loss='sparse_categorical_crossentropy', metrics=['accuracy'])\n",
        "\n",
        "# Summarize the model architecture\n",
        "model_ecg.summary()\n"
      ]
    },
    {
      "cell_type": "code",
      "execution_count": null,
      "metadata": {
        "colab": {
          "base_uri": "https://localhost:8080/"
        },
        "id": "qLYfAg8PK9Tx",
        "outputId": "e43d5251-233e-423d-d580-10e831fbf1fe"
      },
      "outputs": [
        {
          "name": "stdout",
          "output_type": "stream",
          "text": [
            "Epoch 1/10\n",
            "\u001b[1m214/214\u001b[0m \u001b[32m━━━━━━━━━━━━━━━━━━━━\u001b[0m\u001b[37m\u001b[0m \u001b[1m34s\u001b[0m 152ms/step - accuracy: 0.5828 - loss: 1.0841 - val_accuracy: 0.6096 - val_loss: 0.9633\n",
            "Epoch 2/10\n",
            "\u001b[1m214/214\u001b[0m \u001b[32m━━━━━━━━━━━━━━━━━━━━\u001b[0m\u001b[37m\u001b[0m \u001b[1m32s\u001b[0m 150ms/step - accuracy: 0.5932 - loss: 0.9639 - val_accuracy: 0.5985 - val_loss: 0.9837\n",
            "Epoch 3/10\n",
            "\u001b[1m214/214\u001b[0m \u001b[32m━━━━━━━━━━━━━━━━━━━━\u001b[0m\u001b[37m\u001b[0m \u001b[1m42s\u001b[0m 154ms/step - accuracy: 0.6105 - loss: 0.8854 - val_accuracy: 0.5868 - val_loss: 0.9941\n",
            "Epoch 4/10\n",
            "\u001b[1m214/214\u001b[0m \u001b[32m━━━━━━━━━━━━━━━━━━━━\u001b[0m\u001b[37m\u001b[0m \u001b[1m40s\u001b[0m 147ms/step - accuracy: 0.6410 - loss: 0.8051 - val_accuracy: 0.5621 - val_loss: 1.0647\n",
            "Epoch 5/10\n",
            "\u001b[1m214/214\u001b[0m \u001b[32m━━━━━━━━━━━━━━━━━━━━\u001b[0m\u001b[37m\u001b[0m \u001b[1m43s\u001b[0m 159ms/step - accuracy: 0.6896 - loss: 0.6996 - val_accuracy: 0.5657 - val_loss: 1.1899\n",
            "Epoch 6/10\n",
            "\u001b[1m214/214\u001b[0m \u001b[32m━━━━━━━━━━━━━━━━━━━━\u001b[0m\u001b[37m\u001b[0m \u001b[1m39s\u001b[0m 151ms/step - accuracy: 0.7706 - loss: 0.5496 - val_accuracy: 0.5322 - val_loss: 1.4407\n",
            "Epoch 7/10\n",
            "\u001b[1m214/214\u001b[0m \u001b[32m━━━━━━━━━━━━━━━━━━━━\u001b[0m\u001b[37m\u001b[0m \u001b[1m32s\u001b[0m 149ms/step - accuracy: 0.8633 - loss: 0.3740 - val_accuracy: 0.5328 - val_loss: 1.7338\n",
            "Epoch 8/10\n",
            "\u001b[1m214/214\u001b[0m \u001b[32m━━━━━━━━━━━━━━━━━━━━\u001b[0m\u001b[37m\u001b[0m \u001b[1m41s\u001b[0m 152ms/step - accuracy: 0.9407 - loss: 0.2081 - val_accuracy: 0.4941 - val_loss: 2.1426\n",
            "Epoch 9/10\n",
            "\u001b[1m214/214\u001b[0m \u001b[32m━━━━━━━━━━━━━━━━━━━━\u001b[0m\u001b[37m\u001b[0m \u001b[1m41s\u001b[0m 152ms/step - accuracy: 0.9805 - loss: 0.0967 - val_accuracy: 0.4601 - val_loss: 2.8690\n",
            "Epoch 10/10\n",
            "\u001b[1m214/214\u001b[0m \u001b[32m━━━━━━━━━━━━━━━━━━━━\u001b[0m\u001b[37m\u001b[0m \u001b[1m39s\u001b[0m 144ms/step - accuracy: 0.9917 - loss: 0.0443 - val_accuracy: 0.5111 - val_loss: 3.4110\n"
          ]
        }
      ],
      "source": [
        "# Train the model on the training data\n",
        "history = model_ecg.fit(X_train_reshaped, y_train, epochs=10, batch_size=32, validation_data=(X_val_reshaped, y_val))\n"
      ]
    },
    {
      "cell_type": "code",
      "execution_count": null,
      "metadata": {
        "colab": {
          "base_uri": "https://localhost:8080/"
        },
        "id": "HnEafawhKymZ",
        "outputId": "82dbc49c-ff6d-4afc-9944-20c3452b002d"
      },
      "outputs": [
        {
          "name": "stdout",
          "output_type": "stream",
          "text": [
            "\u001b[1m54/54\u001b[0m \u001b[32m━━━━━━━━━━━━━━━━━━━━\u001b[0m\u001b[37m\u001b[0m \u001b[1m2s\u001b[0m 28ms/step - accuracy: 0.5124 - loss: 3.3336\n",
            "Validation Accuracy: 0.5111\n"
          ]
        }
      ],
      "source": [
        "# Evaluate the model on the validation dataset\n",
        "val_loss, val_accuracy = model_ecg.evaluate(X_val_reshaped, y_val)\n",
        "print(f'Validation Accuracy: {val_accuracy:.4f}')\n"
      ]
    },
    {
      "cell_type": "code",
      "execution_count": null,
      "metadata": {
        "colab": {
          "base_uri": "https://localhost:8080/"
        },
        "id": "3XKMJfFINHxT",
        "outputId": "727b3475-d380-4de0-8c61-fa83f9682a98"
      },
      "outputs": [
        {
          "name": "stdout",
          "output_type": "stream",
          "text": [
            "\u001b[1m54/54\u001b[0m \u001b[32m━━━━━━━━━━━━━━━━━━━━\u001b[0m\u001b[37m\u001b[0m \u001b[1m2s\u001b[0m 31ms/step\n",
            "              precision    recall  f1-score   support\n",
            "\n",
            "           0       0.65      0.68      0.67      1044\n",
            "           1       0.17      0.16      0.17       140\n",
            "           2       0.30      0.27      0.29       473\n",
            "           3       0.09      0.08      0.09        49\n",
            "\n",
            "    accuracy                           0.51      1706\n",
            "   macro avg       0.30      0.30      0.30      1706\n",
            "weighted avg       0.50      0.51      0.50      1706\n",
            "\n"
          ]
        }
      ],
      "source": [
        "from sklearn.metrics import classification_report\n",
        "\n",
        "# Predict the labels for the validation data\n",
        "y_val_pred = model_ecg.predict(X_val_reshaped)\n",
        "y_val_pred_classes = y_val_pred.argmax(axis=1)  # Convert probabilities to class labels\n",
        "\n",
        "# Print classification report\n",
        "print(classification_report(y_val, y_val_pred_classes))\n"
      ]
    },
    {
      "cell_type": "code",
      "execution_count": null,
      "metadata": {
        "colab": {
          "background_save": true,
          "base_uri": "https://localhost:8080/"
        },
        "id": "G3bKe3OpRSaB",
        "outputId": "9561ee10-918d-4eb6-ceab-675892d4c9ab"
      },
      "outputs": [
        {
          "name": "stdout",
          "output_type": "stream",
          "text": [
            "Epoch 1/20\n",
            "\u001b[1m107/107\u001b[0m \u001b[32m━━━━━━━━━━━━━━━━━━━━\u001b[0m\u001b[37m\u001b[0m \u001b[1m27s\u001b[0m 256ms/step - accuracy: 0.9984 - loss: 0.0150 - val_accuracy: 0.5117 - val_loss: 3.6515\n",
            "Epoch 2/20\n",
            "\u001b[1m107/107\u001b[0m \u001b[32m━━━━━━━━━━━━━━━━━━━━\u001b[0m\u001b[37m\u001b[0m \u001b[1m39s\u001b[0m 235ms/step - accuracy: 0.9989 - loss: 0.0066 - val_accuracy: 0.5129 - val_loss: 3.8834\n",
            "Epoch 3/20\n",
            "\u001b[1m107/107\u001b[0m \u001b[32m━━━━━━━━━━━━━━━━━━━━\u001b[0m\u001b[37m\u001b[0m \u001b[1m41s\u001b[0m 233ms/step - accuracy: 0.9999 - loss: 0.0034 - val_accuracy: 0.5117 - val_loss: 4.0730\n",
            "Epoch 4/20\n",
            "\u001b[1m107/107\u001b[0m \u001b[32m━━━━━━━━━━━━━━━━━━━━\u001b[0m\u001b[37m\u001b[0m \u001b[1m27s\u001b[0m 256ms/step - accuracy: 0.9993 - loss: 0.0034 - val_accuracy: 0.5094 - val_loss: 4.2095\n",
            "Epoch 5/20\n",
            "\u001b[1m107/107\u001b[0m \u001b[32m━━━━━━━━━━━━━━━━━━━━\u001b[0m\u001b[37m\u001b[0m \u001b[1m39s\u001b[0m 243ms/step - accuracy: 0.9993 - loss: 0.0043 - val_accuracy: 0.5035 - val_loss: 4.2698\n",
            "Epoch 6/20\n",
            "\u001b[1m107/107\u001b[0m \u001b[32m━━━━━━━━━━━━━━━━━━━━\u001b[0m\u001b[37m\u001b[0m \u001b[1m24s\u001b[0m 227ms/step - accuracy: 0.9992 - loss: 0.0043 - val_accuracy: 0.5082 - val_loss: 4.3512\n",
            "Epoch 7/20\n",
            "\u001b[1m107/107\u001b[0m \u001b[32m━━━━━━━━━━━━━━━━━━━━\u001b[0m\u001b[37m\u001b[0m \u001b[1m41s\u001b[0m 230ms/step - accuracy: 0.9995 - loss: 0.0022 - val_accuracy: 0.5164 - val_loss: 4.4619\n",
            "Epoch 8/20\n",
            "\u001b[1m107/107\u001b[0m \u001b[32m━━━━━━━━━━━━━━━━━━━━\u001b[0m\u001b[37m\u001b[0m \u001b[1m43s\u001b[0m 253ms/step - accuracy: 0.9997 - loss: 0.0027 - val_accuracy: 0.5106 - val_loss: 4.4939\n",
            "Epoch 9/20\n",
            "\u001b[1m107/107\u001b[0m \u001b[32m━━━━━━━━━━━━━━━━━━━━\u001b[0m\u001b[37m\u001b[0m \u001b[1m40s\u001b[0m 242ms/step - accuracy: 0.9997 - loss: 0.0019 - val_accuracy: 0.5088 - val_loss: 4.5813\n",
            "Epoch 10/20\n",
            "\u001b[1m107/107\u001b[0m \u001b[32m━━━━━━━━━━━━━━━━━━━━\u001b[0m\u001b[37m\u001b[0m \u001b[1m41s\u001b[0m 242ms/step - accuracy: 1.0000 - loss: 0.0010 - val_accuracy: 0.5217 - val_loss: 4.7207\n",
            "Epoch 11/20\n",
            "\u001b[1m107/107\u001b[0m \u001b[32m━━━━━━━━━━━━━━━━━━━━\u001b[0m\u001b[37m\u001b[0m \u001b[1m38s\u001b[0m 216ms/step - accuracy: 0.9992 - loss: 0.0039 - val_accuracy: 0.5100 - val_loss: 4.7162\n",
            "Epoch 12/20\n",
            "\u001b[1m107/107\u001b[0m \u001b[32m━━━━━━━━━━━━━━━━━━━━\u001b[0m\u001b[37m\u001b[0m \u001b[1m42s\u001b[0m 229ms/step - accuracy: 1.0000 - loss: 6.4987e-04 - val_accuracy: 0.5094 - val_loss: 4.7806\n",
            "Epoch 13/20\n",
            "\u001b[1m107/107\u001b[0m \u001b[32m━━━━━━━━━━━━━━━━━━━━\u001b[0m\u001b[37m\u001b[0m \u001b[1m42s\u001b[0m 238ms/step - accuracy: 0.9991 - loss: 0.0020 - val_accuracy: 0.5000 - val_loss: 4.7733\n",
            "Epoch 14/20\n",
            "\u001b[1m107/107\u001b[0m \u001b[32m━━━━━━━━━━━━━━━━━━━━\u001b[0m\u001b[37m\u001b[0m \u001b[1m26s\u001b[0m 241ms/step - accuracy: 0.9999 - loss: 7.9049e-04 - val_accuracy: 0.5082 - val_loss: 4.8504\n",
            "Epoch 15/20\n",
            "\u001b[1m107/107\u001b[0m \u001b[32m━━━━━━━━━━━━━━━━━━━━\u001b[0m\u001b[37m\u001b[0m \u001b[1m39s\u001b[0m 219ms/step - accuracy: 0.9998 - loss: 8.6901e-04 - val_accuracy: 0.5094 - val_loss: 4.9192\n",
            "Epoch 16/20\n",
            "\u001b[1m107/107\u001b[0m \u001b[32m━━━━━━━━━━━━━━━━━━━━\u001b[0m\u001b[37m\u001b[0m \u001b[1m41s\u001b[0m 220ms/step - accuracy: 0.9998 - loss: 0.0015 - val_accuracy: 0.5123 - val_loss: 4.9128\n",
            "Epoch 17/20\n",
            "\u001b[1m107/107\u001b[0m \u001b[32m━━━━━━━━━━━━━━━━━━━━\u001b[0m\u001b[37m\u001b[0m \u001b[1m42s\u001b[0m 228ms/step - accuracy: 0.9999 - loss: 4.9584e-04 - val_accuracy: 0.5147 - val_loss: 4.9956\n",
            "Epoch 18/20\n",
            "\u001b[1m107/107\u001b[0m \u001b[32m━━━━━━━━━━━━━━━━━━━━\u001b[0m\u001b[37m\u001b[0m \u001b[1m26s\u001b[0m 245ms/step - accuracy: 0.9991 - loss: 0.0026 - val_accuracy: 0.5129 - val_loss: 5.0261\n",
            "Epoch 19/20\n",
            "\u001b[1m107/107\u001b[0m \u001b[32m━━━━━━━━━━━━━━━━━━━━\u001b[0m\u001b[37m\u001b[0m \u001b[1m40s\u001b[0m 238ms/step - accuracy: 0.9999 - loss: 5.3132e-04 - val_accuracy: 0.4912 - val_loss: 5.0316\n",
            "Epoch 20/20\n",
            "\u001b[1m107/107\u001b[0m \u001b[32m━━━━━━━━━━━━━━━━━━━━\u001b[0m\u001b[37m\u001b[0m \u001b[1m24s\u001b[0m 226ms/step - accuracy: 0.9997 - loss: 0.0023 - val_accuracy: 0.4877 - val_loss: 5.0344\n"
          ]
        }
      ],
      "source": [
        "# Modify the training process: change batch size and epochs\n",
        "history = model_ecg.fit(X_train_reshaped, y_train, epochs=20, batch_size=64, validation_data=(X_val_reshaped, y_val))\n"
      ]
    }
  ],
  "metadata": {
    "colab": {
      "provenance": []
    },
    "kernelspec": {
      "display_name": "Python 3",
      "name": "python3"
    },
    "language_info": {
      "name": "python"
    }
  },
  "nbformat": 4,
  "nbformat_minor": 0
}